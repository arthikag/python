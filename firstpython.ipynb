{
  "nbformat": 4,
  "nbformat_minor": 0,
  "metadata": {
    "colab": {
      "name": "firstpython.ipynb",
      "provenance": [],
      "collapsed_sections": [],
      "authorship_tag": "ABX9TyNXUCiBkZTtgsl05SqW4jjg",
      "include_colab_link": true
    },
    "kernelspec": {
      "name": "python3",
      "display_name": "Python 3"
    }
  },
  "cells": [
    {
      "cell_type": "markdown",
      "metadata": {
        "id": "view-in-github",
        "colab_type": "text"
      },
      "source": [
        "<a href=\"https://colab.research.google.com/github/arthikag/python/blob/main/firstpython.ipynb\" target=\"_parent\"><img src=\"https://colab.research.google.com/assets/colab-badge.svg\" alt=\"Open In Colab\"/></a>"
      ]
    },
    {
      "cell_type": "code",
      "metadata": {
        "id": "PrK6vimQNZqN",
        "colab": {
          "base_uri": "https://localhost:8080/"
        },
        "outputId": "15bc5e29-a788-414f-a368-6bfcf4eb5908"
      },
      "source": [
        "# SEPERATE TWO INTEGERS BY #\n",
        "a=int(input(\"1st value\\n\"))\n",
        "b=int(input(\"2nd value\\n\"))\n",
        "print(a,b,sep='#')"
      ],
      "execution_count": null,
      "outputs": [
        {
          "output_type": "stream",
          "text": [
            "1st value\n",
            "45\n",
            "2nd value\n",
            "56\n",
            "45#56\n"
          ],
          "name": "stdout"
        }
      ]
    },
    {
      "cell_type": "code",
      "metadata": {
        "colab": {
          "base_uri": "https://localhost:8080/"
        },
        "id": "KNwZjXfsET8L",
        "outputId": "ff5c52c5-6d25-405e-8c61-46cc5489ae0f"
      },
      "source": [
        "# SEPERATE python and SKCET BY @\n",
        "lang=input(\"enter python\\n\")\n",
        "learn=input(\"enter SKCET\\n\")\n",
        "print(lang,learn,sep=\"@\")"
      ],
      "execution_count": null,
      "outputs": [
        {
          "output_type": "stream",
          "text": [
            "enter python\n",
            "python\n",
            "enter SKCET\n",
            "SKCET\n",
            "python@SKCET\n"
          ],
          "name": "stdout"
        }
      ]
    },
    {
      "cell_type": "code",
      "metadata": {
        "colab": {
          "base_uri": "https://localhost:8080/"
        },
        "id": "9fU5BqqWEuUc",
        "outputId": "b45cfb86-f8d1-4f10-a8d0-f2bd4b5a3a8d"
      },
      "source": [
        "# ADD TWO FLOAT VARIABLES AND ROUNDING UPTO 3 DECIMALS\n",
        "ft1=float (input(\"1st float value\\n\"))\n",
        "ft2=float (input(\"2nd float value\\n\"))\n",
        "ft=ft1+ft2\n",
        "ftr=round(ft,3)\n",
        "print(\"after rounding to 3 decimals is \",ftr)"
      ],
      "execution_count": null,
      "outputs": [
        {
          "output_type": "stream",
          "text": [
            "1st float value\n",
            "3.464645\n",
            "2nd float value\n",
            "2.0\n",
            "after rounding to 3 decimals is  5.465\n"
          ],
          "name": "stdout"
        }
      ]
    },
    {
      "cell_type": "code",
      "metadata": {
        "colab": {
          "base_uri": "https://localhost:8080/"
        },
        "id": "o3P2Pr6FnAp4",
        "outputId": "3146592f-e4ec-4872-9d57-ec66761948cc"
      },
      "source": [
        "wt=float (input(\"enter your weight\\n\"))\n",
        "choice= input(\"F or M \\n\")\n",
        "if choice is \"F\":\n",
        "  ft=float (input(\"1st enter height in feet\\n\"))\n",
        "  inch=float (input(\"2nd enter height in inches\\n\"))\n",
        "  ht=(ft+inch/12)*0.3048\n",
        "else:\n",
        "  ht=float (input(\"enter your height in metres\\n\"))\n",
        "bmi=wt/(ht**2)\n",
        "bmir=round(bmi,3)\n",
        "print(\"BMI =\\n\",bmir)\n",
        "if bmir<=18.5:\n",
        "  print(\"underweight\")\n",
        "elif 18.5>=bmir>=22.5:\n",
        "  print(\"normal\")\n",
        "elif 22.5>=bmir>=25:\n",
        "  print(\"over weight\")\n",
        "else:\n",
        "  print(\"very over weight\")"
      ],
      "execution_count": null,
      "outputs": [
        {
          "output_type": "stream",
          "text": [
            "enter your weight\n",
            "45\n",
            "F or M \n",
            "F\n",
            "1st enter height in feet\n",
            "453\n",
            "2nd enter height in inches\n",
            "45\n",
            "BMI =  0.002\n",
            "underweight\n"
          ],
          "name": "stdout"
        }
      ]
    },
    {
      "cell_type": "code",
      "metadata": {
        "colab": {
          "base_uri": "https://localhost:8080/"
        },
        "id": "AMHyo9yiin0f",
        "outputId": "e1d909f8-ca30-47a1-a9bf-0219ad261e00"
      },
      "source": [
        "#BEFORE NUMBER AND CUBE\n",
        "var=int(input(\"enter a number\\n\"))\n",
        "print(\"before number is \\n\")\n",
        "print(var-1,\"\\n\")\n",
        "print(\"the cube of the number is\\n\")\n",
        "print(var**3)"
      ],
      "execution_count": null,
      "outputs": [
        {
          "output_type": "stream",
          "text": [
            "enter a number\n",
            "14\n",
            "before number is \n",
            "\n",
            "13 \n",
            "\n",
            "the cube of the number is\n",
            "\n",
            "2744\n"
          ],
          "name": "stdout"
        }
      ]
    }
  ]
}